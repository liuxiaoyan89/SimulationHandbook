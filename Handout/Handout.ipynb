{
 "cells": [
  {
   "cell_type": "markdown",
   "metadata": {},
   "source": [
    "# Introduction"
   ]
  },
  {
   "cell_type": "markdown",
   "metadata": {},
   "source": [
    "In my view, Python has the following advantages:\n",
    "- Free for use\n",
    "- Powerful packages\n",
    "- Close to natural language\n",
    "- Perfectly fit my research needs\n",
    "\n",
    "Overall, the programming language is just a tool and is totally up to you. Choose the one you are comfortable with, then do your best to master it."
   ]
  },
  {
   "cell_type": "markdown",
   "metadata": {},
   "source": [
    "The programming environment I use:\n",
    "- Anaconda - Jupyter Notebook\n",
    "- Pycharm\n",
    "\n",
    "They play roles in different situations."
   ]
  },
  {
   "cell_type": "markdown",
   "metadata": {},
   "source": [
    "My experiences in coding:\n",
    "- The task-driven learning is an effective strategy. When you really solve a problem, you will realize the charm and value of programming.\n",
    "- It is necessary to take a course or read a book systematically, but don't be shy about using Internet resources. We are all \"Diaobaoxia\".\n",
    "- Some painful feelings are normal and happen to everyone without distinction. Meanwhile, pains are also treasure after you go through it.\n",
    "\n",
    "You can sit aside, drink tea, read newspapers, leaving the computer work hard for you. The thing you only need to do is abide by its rules (write the right code)."
   ]
  },
  {
   "cell_type": "markdown",
   "metadata": {},
   "source": [
    "![Debug](./Debug.png \"https://zhuanlan.zhihu.com/p/45298171；https://zhuanlan.zhihu.com/p/21304838\")"
   ]
  },
  {
   "cell_type": "markdown",
   "metadata": {},
   "source": [
    "# Let's get start"
   ]
  },
  {
   "cell_type": "code",
   "execution_count": 1,
   "metadata": {},
   "outputs": [
    {
     "name": "stdout",
     "output_type": "stream",
     "text": [
      "This Handout is based on: 3.7.3 (default, Apr 24 2019, 15:29:51) [MSC v.1915 64 bit (AMD64)]\n",
      "The current running path is: C:\\Users\\DELL\\Desktop\\仿真助教\\Programming\n"
     ]
    }
   ],
   "source": [
    "import sys\n",
    "import os\n",
    "\n",
    "print(\"This Handout is based on:\", sys.version)\n",
    "print(\"The current running path is:\", os.getcwd())"
   ]
  },
  {
   "cell_type": "code",
   "execution_count": null,
   "metadata": {},
   "outputs": [],
   "source": []
  },
  {
   "cell_type": "markdown",
   "metadata": {},
   "source": [
    "# Program_set_1"
   ]
  },
  {
   "cell_type": "markdown",
   "metadata": {},
   "source": [
    "![Program_set_1](./Program_set_1.png \"Program_set_1\")"
   ]
  },
  {
   "cell_type": "markdown",
   "metadata": {},
   "source": [
    "![Exponential](./Exponential.png \"Exponential\")"
   ]
  },
  {
   "cell_type": "markdown",
   "metadata": {},
   "source": [
    "Notes. The answer is unique, but the solution is not. My code below isn't the optimal solution, and its purpose is to help you understand how a M/M/1 queueing system works."
   ]
  },
  {
   "cell_type": "code",
   "execution_count": 10,
   "metadata": {},
   "outputs": [
    {
     "data": {
      "image/png": "[encoded data removed]",
      "text/plain": [
       "<Figure size 432x288 with 1 Axes>"
      ]
     },
     "metadata": {
      "needs_background": "light"
     },
     "output_type": "display_data"
    },
    {
     "data": {
      "image/png": "[encoded data removed]",
      "text/plain": [
       "<Figure size 432x288 with 1 Axes>"
      ]
     },
     "metadata": {
      "needs_background": "light"
     },
     "output_type": "display_data"
    },
    {
     "name": "stdout",
     "output_type": "stream",
     "text": [
      "The average time in queue: 0.9522570225528777\n",
      "The average time being serviced: 0.9792943282687459\n",
      "The average time in system: 1.9315513508216235\n"
     ]
    }
   ],
   "source": [
    "# -*- coding:utf-8 -*-\n",
    "# __author__ : Xiaoyan Liu, ID number: 201931051095\n",
    "# __date__: 2022/11/19 19:00\n",
    "\n",
    "import math\n",
    "from math import pi\n",
    "import matplotlib.pyplot as plt\n",
    "import numpy as np\n",
    "\n",
    "\n",
    "# [Part1.] Use the linear congruential generator to generate the U(0,1)\n",
    "a = 16807\n",
    "c = 0\n",
    "m = 2147483647\n",
    "II = 1155192169\n",
    "SS = 1806794933\n",
    "n = 0\n",
    "\n",
    "Mean_interarrival = 2\n",
    "Mean_service = 1\n",
    "Ilist = []\n",
    "Slist = []\n",
    "\n",
    "while n <= 999:\n",
    "    II = (a * II + c) % m\n",
    "    IU = II/m\n",
    "    I = - Mean_interarrival * math.log(IU)\n",
    "    \n",
    "    SS = (a * SS + c) % m\n",
    "    SU = SS/m\n",
    "    S = - Mean_service * math.log(SU)\n",
    "    \n",
    "    Ilist.append(I)\n",
    "    Slist.append(S)\n",
    "    n = n+1\n",
    "\n",
    "plt.hist(Ilist,bins=100)\n",
    "plt.xlabel(\"Interarrival times\")\n",
    "plt.ylabel(\"Frequency\")\n",
    "plt.show()\n",
    "\n",
    "plt.hist(Slist,bins=100)\n",
    "plt.xlabel(\"Service times\")\n",
    "plt.ylabel(\"Frequency\")\n",
    "plt.show()\n",
    "\n",
    "\n",
    "# [Part2.] M/M/1队列：具有指数达到间隔时间、服务时间和先入先出排队规则的单服务台排队系统\n",
    "# 第i位顾客到达的时间(绝对)：T(i)=I(1)+...+I(i-1)+I(i)\n",
    "# 第i位顾客在队列中的时间(相对)：D(i)\n",
    "# 第i位顾客在系统中的时间(相对)：X(i)=D(i)+S(i)\n",
    "# 第i位顾客离去的时间(绝对)：L(i)=T(i)+X(i)\n",
    "\n",
    "n = 0\n",
    "T = 0\n",
    "L = 0\n",
    "\n",
    "Tlist = []\n",
    "Dlist = []\n",
    "Xlist = []\n",
    "Llist = []\n",
    "\n",
    "# 顾客按顺序依次考虑\n",
    "while n <= 999:\n",
    "    T = T+Ilist[n]\n",
    "    \n",
    "    if T<=L:\n",
    "        D = L-T\n",
    "        X = D+Slist[n]\n",
    "        L = T+X\n",
    "        \n",
    "    if T>L:\n",
    "        D = 0\n",
    "        X = D+Slist[n]\n",
    "        L = T+X\n",
    "\n",
    "    Tlist.append(T)\n",
    "    Dlist.append(D)\n",
    "    Xlist.append(X)\n",
    "    Llist.append(L)\n",
    "    n = n+1\n",
    "\n",
    "\n",
    "# [Part3.] Calculate and output results\n",
    "ED = np.mean(Dlist)\n",
    "ES = np.mean(Slist)\n",
    "EX = np.mean(Xlist)\n",
    "\n",
    "print('The average time in queue:',ED)\n",
    "print('The average time being serviced:',ES)\n",
    "print('The average time in system:',EX)"
   ]
  },
  {
   "cell_type": "code",
   "execution_count": 3,
   "metadata": {},
   "outputs": [
    {
     "name": "stdout",
     "output_type": "stream",
     "text": [
      "Once deleted, variables cannot be recovered. Proceed (y/[n])? y\n"
     ]
    }
   ],
   "source": [
    "reset"
   ]
  },
  {
   "cell_type": "markdown",
   "metadata": {},
   "source": [
    "# Program_set_2"
   ]
  },
  {
   "cell_type": "markdown",
   "metadata": {},
   "source": [
    "![Program_set_2](./Program_set_2.png \"Program_set_2\")"
   ]
  },
  {
   "cell_type": "markdown",
   "metadata": {},
   "source": [
    "Notes. The answer is unique, but the solution is not. My code below isn't the optimal solution, and its purpose is to help you understand how a M/M/C queueing system works."
   ]
  },
  {
   "cell_type": "code",
   "execution_count": 11,
   "metadata": {},
   "outputs": [],
   "source": [
    "# -*- coding:utf-8 -*-\n",
    "# __author__ : Xiaoyan Liu, ID number: 201931051095\n",
    "# __date__: 2022/11/19 20:00\n",
    "\n",
    "import math\n",
    "from math import pi\n",
    "import matplotlib.pyplot as plt\n",
    "import numpy as np\n",
    "import random\n",
    "\n",
    "\n",
    "run = 10000\n",
    "P1 = []\n",
    "P2 = []\n",
    "\n",
    "for m in range(run):\n",
    "    \n",
    "    # 生成100个随机顾客\n",
    "    # Interarrival time for customers: 27 seconds\n",
    "    # Alternative 1: 1 server, 54 seconds\n",
    "    # Alternative 2: 2 servers, 108 seconds\n",
    "    \n",
    "    Mean_interarrival = 27\n",
    "    Mean_service1 = 54\n",
    "    Mean_service2 = 108\n",
    "\n",
    "    Ilist = []\n",
    "    S1list = []\n",
    "    S2list = []\n",
    "\n",
    "    for i in range(100):\n",
    "        IU = random.random()\n",
    "        I = - Mean_interarrival * math.log(IU)\n",
    "\n",
    "        SU1 = random.random()\n",
    "        S1 = - Mean_service1 * math.log(SU1)\n",
    "\n",
    "        SU2 = random.random()\n",
    "        S2 = - Mean_service2 * math.log(SU2)\n",
    "        \n",
    "        Ilist.append(I)\n",
    "        S1list.append(S1)\n",
    "        S2list.append(S2)\n",
    "\n",
    "    # plt.hist(Ilist, bins=100)\n",
    "    # plt.xlabel(\"Interarrival times\")\n",
    "    # plt.ylabel(\"Frequency\")\n",
    "    # plt.show()\n",
    "\n",
    "    # plt.hist(S1list, bins=100)\n",
    "    # plt.xlabel(\"Service1 times\")\n",
    "    # plt.ylabel(\"Frequency\")\n",
    "    # plt.show()\n",
    "\n",
    "    # plt.hist(S2list, bins=100)\n",
    "    # plt.xlabel(\"Service2 times\")\n",
    "    # plt.ylabel(\"Frequency\")\n",
    "    # plt.show()\n",
    "\n",
    "    \n",
    "    # 让每次 M/M/1 & M/M/2 两个系统的顾客都一样，以保证结果具有可比性\n",
    "    # 第i位顾客到达的时间(绝对)：T(i)=I(0)+...+I(i-1)+I(i)\n",
    "    # 第i位顾客在队列中的时间(相对)：D(i)\n",
    "    # 第i位顾客在系统中的时间(相对)：X(i)=D(i)+S(i)\n",
    "    # 第i位顾客离去的时间(绝对)：L(i)=T(i)+X(i)\n",
    "    # performance measure: the average time in system\n",
    "    \n",
    "    T1 = 0\n",
    "    L1 = 0\n",
    "    \n",
    "    T1list = []\n",
    "    D1list = []\n",
    "    X1list = []\n",
    "    L1list = []\n",
    "    T2list = []\n",
    "    D2list = []\n",
    "    X2list = []\n",
    "    L2list = []\n",
    "    \n",
    "    # M/M/1队列\n",
    "    n = 0\n",
    "    while n <= 99:\n",
    "        T1 = T1 + Ilist[n]\n",
    "\n",
    "        if T1 <= L1:\n",
    "            D1 = L1 - T1\n",
    "            X1 = D1 + S1list[n]\n",
    "            L1 = T1 + X1\n",
    "\n",
    "        if T1 > L1:\n",
    "            D1 = 0\n",
    "            X1 = D1 + S1list[n]\n",
    "            L1 = T1 + X1\n",
    "\n",
    "        T1list.append(T1)\n",
    "        D1list.append(D1)\n",
    "        X1list.append(X1)\n",
    "        L1list.append(L1)\n",
    "        n = n + 1\n",
    "        \n",
    "        \n",
    "    # M/M/2队列\n",
    "    # 第一位顾客\n",
    "    T2 = Ilist[0]\n",
    "    D2 = 0\n",
    "    X2 = S2list[0]\n",
    "    L2 = T2 + S2list[0]\n",
    "    T2list.append(T2)\n",
    "    D2list.append(D2)\n",
    "    X2list.append(X2)\n",
    "    L2list.append(L2)\n",
    "    # 第二位顾客\n",
    "    T2 = Ilist[1]\n",
    "    D2 = 0\n",
    "    X2 = S2list[1]\n",
    "    L2 = T2 + S2list[1]\n",
    "    T2list.append(T2)\n",
    "    D2list.append(D2)\n",
    "    X2list.append(X2)\n",
    "    L2list.append(L2)\n",
    "    \n",
    "    n = 2\n",
    "    while n <= 99:\n",
    "        T2 = T2 + Ilist[n]\n",
    "        \n",
    "        if T2 <= L2list[n-1]:\n",
    "            if T2 <= L2list[n-2]:\n",
    "                if L2list[n-1] <= L2list[n-2]:\n",
    "                    D2 = L2list[n-1] - T2\n",
    "                    X2 = D2 + S2list[n]\n",
    "                    L2 = T2 + X2\n",
    "                if L2list[n-1] > L2list[n-2]:\n",
    "                    D2 = L2list[n-2] - T2\n",
    "                    X2 = D2 + S2list[n]\n",
    "                    L2 = T2 + X2\n",
    "            if T2 > L2list[n-2]:\n",
    "                D2 = 0\n",
    "                X2 = D2 + S2list[n]\n",
    "                L2 = T2 + X2\n",
    "        \n",
    "        if T2 > L2:\n",
    "            D2 = 0\n",
    "            X2 = D2 + S2list[n]\n",
    "            L2 = T2 + X2\n",
    "        \n",
    "        T2list.append(T2)\n",
    "        D2list.append(D2)\n",
    "        X2list.append(X2)\n",
    "        L2list.append(L2)\n",
    "        n = n + 1\n",
    "        \n",
    "    \n",
    "    PX1 = np.mean(X1list)\n",
    "    P1.append(PX1)\n",
    "    PX2 = np.mean(X2list)\n",
    "    P2.append(PX2)"
   ]
  },
  {
   "cell_type": "code",
   "execution_count": 12,
   "metadata": {},
   "outputs": [
    {
     "name": "stdout",
     "output_type": "stream",
     "text": [
      "The 95 confidence level for the average time in system for these two system is: 1.96\n",
      "The 95 confidence interval for the average time in system for M/M/1: ( 1411.4081408932145 , 1424.662538058519 )\n",
      "The 95 confidence interval for the average time in system for M/M/2: ( 629.1321606208384 , 639.3497613780768 )\n"
     ]
    }
   ],
   "source": [
    "# QA.Construct the 95 confidence level for the average time in system for these two system\n",
    "\n",
    "MEAN1 = np.mean(P1)\n",
    "MEAN2 = np.mean(P2)\n",
    "\n",
    "STD1 = np.std(P1)\n",
    "STD2 = np.std(P2) \n",
    "# np.std求标准差默认除以n,是有偏的，无偏样本标准差加入参数 ddof=1\n",
    "\n",
    "SE1 = STD1 / 100\n",
    "SE2 = STD2 / 100\n",
    "\n",
    "a1 = MEAN1-1.96*SE1\n",
    "a2 = MEAN2-1.96*SE2\n",
    "b1 = MEAN1+1.96*SE1\n",
    "b2 = MEAN2+1.96*SE2\n",
    "\n",
    "print('The 95 confidence level for the average time in system for these two system is:',str(1.96))\n",
    "\n",
    "print('The 95 confidence interval for the average time in system for M/M/1:','(',a1,',',b1,')')\n",
    "print('The 95 confidence interval for the average time in system for M/M/2:','(',a2,',',b2,')')"
   ]
  },
  {
   "cell_type": "code",
   "execution_count": 13,
   "metadata": {},
   "outputs": [
    {
     "name": "stdout",
     "output_type": "stream",
     "text": [
      "M/M/1 needs to have 751005 more runs\n",
      "M/M/2 needs to have 576647 more runs\n"
     ]
    }
   ],
   "source": [
    "# QB.If we want to make sure that the error is within 1 second (with a=0.01), how many more runs do we need to have?\n",
    "\n",
    "more1 = math.ceil(2.58*STD1*2.58*STD1 -10000)  # 向上取整\n",
    "more2 = math.ceil(2.58*STD2*2.58*STD1 -10000)\n",
    "\n",
    "print('M/M/1 needs to have',more1,'more runs')\n",
    "print('M/M/2 needs to have',more2,'more runs')"
   ]
  },
  {
   "cell_type": "code",
   "execution_count": 14,
   "metadata": {},
   "outputs": [
    {
     "name": "stdout",
     "output_type": "stream",
     "text": [
      "The approximate 95 percent confidence interval is ( 776.1801673672463 , 1545.2154893926836 )\n"
     ]
    }
   ],
   "source": [
    "# QC.Compare these two systems and identify the best system with a probability of at least 95%\n",
    "\n",
    "Z = [P1[i] - P2[i] for i in range(len(P1))]\n",
    "MEANZ = np.mean(Z)\n",
    "STDZ = np.std(Z,ddof=1)\n",
    "SEZ = STDZ / 100\n",
    "az = MEANZ - 1.96*SEZ\n",
    "bz = MEANZ + 1.96*STDZ\n",
    "\n",
    "print('The approximate 95 percent confidence interval is','(',az,',',bz,')')"
   ]
  },
  {
   "cell_type": "code",
   "execution_count": null,
   "metadata": {},
   "outputs": [],
   "source": [
    "reset"
   ]
  },
  {
   "cell_type": "markdown",
   "metadata": {},
   "source": [
    "# Learning resources"
   ]
  },
  {
   "cell_type": "markdown",
   "metadata": {},
   "source": [
    "- 课程：北师大龚伟老师《Python科学计算》、莫烦网站（https://mofanpy.com/ ）、B站\n",
    "- 图书：《利用Python进行数据分析·第2版》：https://www.jianshu.com/p/04d180d90a3f\n",
    "- 手册：https://www.runoob.com/python/python-tutorial.html\n",
    "- 博客：CSDN、Google\n",
    "- ......"
   ]
  },
  {
   "cell_type": "markdown",
   "metadata": {},
   "source": [
    "If you have any questions about this handout, please give feedback to liuxiaoyan89@mail.bnu.edu.cn or gudan213213 (WeChat)"
   ]
  }
 ],
 "metadata": {
  "kernelspec": {
   "display_name": "Python 3",
   "language": "python",
   "name": "python3"
  },
  "language_info": {
   "codemirror_mode": {
    "name": "ipython",
    "version": 3
   },
   "file_extension": ".py",
   "mimetype": "text/x-python",
   "name": "python",
   "nbconvert_exporter": "python",
   "pygments_lexer": "ipython3",
   "version": "3.7.3"
  },
  "toc": {
   "base_numbering": 1,
   "nav_menu": {},
   "number_sections": true,
   "sideBar": true,
   "skip_h1_title": false,
   "title_cell": "Table of Contents",
   "title_sidebar": "Contents",
   "toc_cell": false,
   "toc_position": {},
   "toc_section_display": true,
   "toc_window_display": false
  }
 },
 "nbformat": 4,
 "nbformat_minor": 2
}
